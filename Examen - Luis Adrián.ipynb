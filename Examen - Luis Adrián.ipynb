{
 "cells": [
  {
   "cell_type": "markdown",
   "metadata": {},
   "source": [
    "# Examen Módulo 1 - Optimización.\n",
    "\n",
    "**Lea cuidadosamente las siguientes indicaciones antes de comenzar el examen:**\n",
    "- Para resolver el examen edite este mismo archivo y renómbrelo de la siguiente manera: *Examen1_ApellidoNombre*, donde *ApellidoNombre* corresponde a su apellido paterno con la inicial en mayúscula, seguido de su primer nombre con la inicial en mayúscula **sin acentos**. Por ejemplo, en mi caso el nombre del archivo sería *Examen1_ArellanoCarlos*.\n",
    "- Resuelva los puntos en el espacio provisto. Si requiere agregar más celdas para código o escritura, hágalo (`Esc`+`B`) o (`Esc`+`A`).\n",
    "- Recuerde que también se está evaluando su capacidad de interpretar los resultados. Escriba sus interpretaciones/conclusiones en celdas utilizando *Markdown*.\n",
    "- El formato de presentación de todo el examen en general debe ser adecuado. Use tamaños de letra, colores, etiquetas, etcétera.\n",
    "- No se resuelven dudas de ningún tipo por los profesores de la asignatura. Por favor, absténgase de preguntar.\n",
    "- Revise bien el tipo de examen. Sólo se le calificará si realiza el tipo de examen asignado."
   ]
  },
  {
   "cell_type": "markdown",
   "metadata": {},
   "source": [
    "---\n",
    "# Primer punto. Optimización de funciones con `SymPy`\n",
    "\n",
    "Considere una cruz simétrica inscrita en un círculo de radio $r$"
   ]
  },
  {
   "cell_type": "code",
   "execution_count": 12,
   "metadata": {},
   "outputs": [
    {
     "data": {
      "image/png": "[encoded data removed]",
      "text/plain": [
       "<Figure size 432x288 with 1 Axes>"
      ]
     },
     "metadata": {
      "needs_background": "light"
     },
     "output_type": "display_data"
    }
   ],
   "source": [
    "import numpy as np\n",
    "import matplotlib.pyplot as plt\n",
    "import matplotlib.patches as patches\n",
    "%matplotlib inline\n",
    "\n",
    "ct = np.cos(0.3)\n",
    "st = np.sin(0.3)\n",
    "x = np.linspace(-ct,ct,1000)\n",
    "y = np.zeros(np.shape(x))\n",
    "y[1:500] = [st if i < -st else ct for i in x[1:500]]\n",
    "y[500:999] = [st if i > st else ct for i in x[500:999]]\n",
    "\n",
    "p = patches.Circle((0, 0), 1,fc='w',lw=2,color='k')\n",
    "ax = plt.gca()\n",
    "ax.add_artist(p)\n",
    "plt.text(0.1,0.6,'$r$')\n",
    "\n",
    "plt.plot(x,y,'r')\n",
    "plt.plot(x,-y,'r')\n",
    "\n",
    "plt.plot([-st,0,st],[ct,0,ct],'k--')\n",
    "plt.text(-0.04,0.4,r'$\\theta$')\n",
    "a = patches.Arc((0, 0),0.7,0.7,90,theta1=-0.3*180/np.pi,theta2=0.3*180/np.pi,\n",
    "                fc='w',color='k',ls='--')\n",
    "ax.add_artist(a)\n",
    "\n",
    "plt.axis([-1,1,-1,1])\n",
    "plt.axis('equal')\n",
    "plt.axis('off')\n",
    "#plt.tight_layout()\n",
    "plt.show()"
   ]
  },
  {
   "cell_type": "markdown",
   "metadata": {},
   "source": [
    "1. Escribir el área $A$ de la cruz como una función de $\\theta$. Realice este punto usando fórmulas de $\\LaTeX$, en celdas *Markdown*.\n",
    "2. Determinar el valor de $\\theta$ que maximiza el área para un radio $r=2$.\n",
    "3. ¿Cuál es el área máxima de la cruz?"
   ]
  },
  {
   "cell_type": "markdown",
   "metadata": {},
   "source": [
    "**Pista:** Divida la cruz en cuatro partes iguales determinadas por los ejes $x$ y $y$. El resto es trigonometría básica."
   ]
  },
  {
   "cell_type": "code",
   "execution_count": 165,
   "metadata": {},
   "outputs": [],
   "source": [
    "import sympy as sp\n",
    "import math as mt\n",
    "import numpy as np\n",
    "import matplotlib.pyplot as plt\n",
    "%matplotlib inline"
   ]
  },
  {
   "cell_type": "markdown",
   "metadata": {},
   "source": [
    "### Dividimos la cruz dada "
   ]
  },
  {
   "cell_type": "markdown",
   "metadata": {},
   "source": [
    "Para desarrollar la fórmula de la cruz ya divida, conseguimos la siguiente fórmula base -> $ A = 4ab - a^2 $"
   ]
  },
  {
   "cell_type": "markdown",
   "metadata": {},
   "source": [
    " ### Depués, obtenemos nuestras fórmulas tanto de **\"a\"** como de **\"b\"**"
   ]
  },
  {
   "cell_type": "markdown",
   "metadata": {},
   "source": [
    "* Se utilizaron leyes trigonométricas para poder obtener a y b. \n",
    "Se partió el triángulo dado a la mitad para ver lo que es el cateto\n",
    "adyacente, el opuesto y la hipotenusa "
   ]
  },
  {
   "cell_type": "markdown",
   "metadata": {},
   "source": [
    "### ¿Cómo podemos definir estos datos?"
   ]
  },
  {
   "cell_type": "markdown",
   "metadata": {},
   "source": [
    "* Cateto Opuesto -> a / 2 \n",
    "* Cateto Adyacente -> b\n",
    "* Hipotenusa -> r\n",
    "* Ángulo theta -> $ \\fracc {\\theta}{2} $\n"
   ]
  },
  {
   "cell_type": "markdown",
   "metadata": {},
   "source": [
    "### Después, utilizamos lo que es la ley de seno "
   ]
  },
  {
   "cell_type": "markdown",
   "metadata": {},
   "source": [
    "$ sen( \\theta ) = {co \\over h} $"
   ]
  },
  {
   "cell_type": "markdown",
   "metadata": {},
   "source": [
    "Para después sustituir con los valores obtenidos\n",
    "$$ sen(\\theta) = \\frac{\\theta}{2} = \\frac{a / 2} {r} $$"
   ]
  },
  {
   "cell_type": "markdown",
   "metadata": {},
   "source": [
    "### Y para obtener a se despejó"
   ]
  },
  {
   "cell_type": "markdown",
   "metadata": {},
   "source": [
    "$$ sen \\frac{\\theta}{2} * r = \\frac {a}{2} $$"
   ]
  },
  {
   "cell_type": "markdown",
   "metadata": {},
   "source": [
    "### Y nos queda así\n",
    "\n",
    "$$ 2r sen \\frac{\\theta}{2} = a $$"
   ]
  },
  {
   "cell_type": "code",
   "execution_count": 170,
   "metadata": {},
   "outputs": [],
   "source": [
    "import math as mt"
   ]
  },
  {
   "cell_type": "code",
   "execution_count": 160,
   "metadata": {},
   "outputs": [
    {
     "data": {
      "text/latex": [
       "$\\displaystyle 16 \\sin{\\left(\\theta \\right)} + 8 \\cos{\\left(\\theta \\right)} - 8$"
      ],
      "text/plain": [
       "16*sin(theta) + 8*cos(theta) - 8"
      ]
     },
     "execution_count": 160,
     "metadata": {},
     "output_type": "execute_result"
    }
   ],
   "source": [
    "ac = 2*(2**2)*(2*sp.sin(\"theta\")+sp.cos(\"theta\")-1)\n",
    "ac"
   ]
  },
  {
   "cell_type": "code",
   "execution_count": null,
   "metadata": {},
   "outputs": [],
   "source": []
  },
  {
   "cell_type": "code",
   "execution_count": 161,
   "metadata": {},
   "outputs": [
    {
     "data": {
      "text/latex": [
       "$\\displaystyle - 8 \\sin{\\left(\\theta \\right)} + 16 \\cos{\\left(\\theta \\right)}$"
      ],
      "text/plain": [
       "-8*sin(theta) + 16*cos(theta)"
      ]
     },
     "execution_count": 161,
     "metadata": {},
     "output_type": "execute_result"
    }
   ],
   "source": [
    "df = sp.diff(ac, \"theta\")\n",
    "df"
   ]
  },
  {
   "cell_type": "markdown",
   "metadata": {},
   "source": [
    "### Punto crítico "
   ]
  },
  {
   "cell_type": "code",
   "execution_count": 173,
   "metadata": {},
   "outputs": [
    {
     "data": {
      "text/plain": [
       "[atan(2)]"
      ]
     },
     "execution_count": 173,
     "metadata": {},
     "output_type": "execute_result"
    }
   ],
   "source": [
    "puntoc = sp.solve(df, \"theta\")\n",
    "puntoc"
   ]
  },
  {
   "cell_type": "markdown",
   "metadata": {},
   "source": [
    "### ¿Qué quedó de resultado?"
   ]
  },
  {
   "cell_type": "code",
   "execution_count": 174,
   "metadata": {},
   "outputs": [
    {
     "data": {
      "text/plain": [
       "1.1071487177940906"
      ]
     },
     "execution_count": 174,
     "metadata": {},
     "output_type": "execute_result"
    }
   ],
   "source": [
    "mt.atan(2)"
   ]
  },
  {
   "cell_type": "markdown",
   "metadata": {},
   "source": [
    "$$ artan(2) = 1.1071487177940906 $$"
   ]
  },
  {
   "cell_type": "markdown",
   "metadata": {},
   "source": [
    "### Y nuestra área máxima es "
   ]
  },
  {
   "cell_type": "code",
   "execution_count": 172,
   "metadata": {},
   "outputs": [
    {
     "data": {
      "text/latex": [
       "$\\displaystyle 9.88830163010801$"
      ],
      "text/plain": [
       "9.88830163010801"
      ]
     },
     "execution_count": 172,
     "metadata": {},
     "output_type": "execute_result"
    }
   ],
   "source": [
    "ac = 2*(2**2)*(2*sp.sin(1.10711487177940904)+sp.cos(1.1071487177)-1)\n",
    "ac "
   ]
  },
  {
   "cell_type": "markdown",
   "metadata": {},
   "source": [
    "$$ Área -> 9.88830163010801cm^2 $$"
   ]
  },
  {
   "cell_type": "code",
   "execution_count": null,
   "metadata": {},
   "outputs": [],
   "source": []
  },
  {
   "cell_type": "code",
   "execution_count": null,
   "metadata": {},
   "outputs": [],
   "source": []
  },
  {
   "cell_type": "markdown",
   "metadata": {},
   "source": [
    "---\n",
    "# Segundo punto. Programación lineal\n",
    "\n",
    "Un empresario pretende fabricar dos tipos de congeladores denominados A y B. Cada uno de ellos debe pasar por tres operaciones antes de su comercialización: \n",
    "<table>\n",
    "  <tr>\n",
    "      <th></th>\n",
    "      <th>Ensamblaje</th>\n",
    "      <th>Pintura</th>\n",
    "      <th>Calidad</th>\n",
    "  </tr>\n",
    "  <tr>\n",
    "      <th>Congeladores tipo A</th>\n",
    "      <td>2.5 horas</td>\n",
    "      <td>3 kg</td>\n",
    "      <td>14 horas</td>\n",
    "  </tr>\n",
    "  <tr style=\"border-bottom: 1px solid #000;\">\n",
    "      <th>Congeladores tipo B</th>\n",
    "      <td>3 horas</td>\n",
    "      <td>6 kg</td>\n",
    "      <td>10 horas</td>\n",
    "  </tr>\n",
    "  <tr>\n",
    "      <td>Disponibilidad</td>\n",
    "      <td>4500 horas</td>\n",
    "      <td>8400 kg</td>\n",
    "      <td>20000 horas</td>\n",
    "  </tr>\n",
    "</table>\n",
    "\n",
    "El empresario dispone semanalmente de:\n",
    "\n",
    "* Máximo 4500 horas para ensamblaje\n",
    "* Máximo 8400 Kg. de esmalte\n",
    "* 20000 horas máximo, para control de calidad\n",
    "\n",
    "Los costos totales de fabricación por unidad son, respectivamente, 30 y 28, y los precios de venta 52 y 48, todos ellos en miles de pesos. Además, los estudios de mercado muestran que la demanda semanal de congeladores no supera las 1700 unidades y que, en particular, la de tipo A es de, al menos 600 unidades.\n",
    "\n",
    "<table>\n",
    "  <tr>\n",
    "      <th></th>\n",
    "      <th>Costo</th>\n",
    "      <th>Precio de venta</th>\n",
    "  </tr>\n",
    "  <tr>\n",
    "      <th>Congeladores tipo A</th>\n",
    "      <td>30</td>\n",
    "      <td>52</td>\n",
    "  </tr>\n",
    "  <tr>\n",
    "      <th>Congeladores tipo B</th>\n",
    "      <td>28</td>\n",
    "      <td>48</td>\n",
    "  </tr>\n",
    "</table>\n",
    "\n",
    "Se desea conocer las unidades necesarias para **maximizar** la utilidad.\n",
    "\n",
    "1. Escriba la función a **minimizar** junto con las restricciones, explicando detalladamente cada paso (usando fórmulas en $\\LaTeX$, en celdas Markdown). Además escriba el problema en la forma \\begin{equation}\n",
    "\\begin{array}{ll}\n",
    "\\min_{\\boldsymbol{x}} & \\boldsymbol{c}^T\\boldsymbol{x} \\\\\n",
    "\\text{s. a. }        & \\boldsymbol{A}_{eq}\\boldsymbol{x}=\\boldsymbol{b}_{eq} \\\\\n",
    "                     & \\boldsymbol{A}\\boldsymbol{x}\\leq\\boldsymbol{b},\n",
    "\\end{array}\\qquad\n",
    "\\end{equation}\n",
    "2. Resuelva el problema utilizando la función `linprog`. ¿Cuántos congeladores de cada tipo se deben producir (valores enteros)?, ¿Cuál es la ganancia?"
   ]
  },
  {
   "cell_type": "code",
   "execution_count": null,
   "metadata": {},
   "outputs": [],
   "source": []
  },
  {
   "cell_type": "code",
   "execution_count": null,
   "metadata": {},
   "outputs": [],
   "source": []
  },
  {
   "cell_type": "markdown",
   "metadata": {},
   "source": [
    "---\n",
    "# Tercer punto. Ajuste de curvas\n",
    "Los siguientes datos extraidos de la Federal Reserve Economic Data (FRED), son los salarios por empleado equivalente a tiempo completo en industrias privadas de EE.UU.: fondos, fideicomisos, etc. **entre los años 1998 y 2018**. \n",
    "\n",
    "https://www.quandl.com/data/FRED/N4461C0A052NBEA-Wage-and-salary-accruals-per-full-time-equivalent-employee-Domestic-private-industries-Funds-trusts-and-other-financial-vehicles "
   ]
  },
  {
   "cell_type": "code",
   "execution_count": 1,
   "metadata": {},
   "outputs": [],
   "source": [
    "import numpy as np\n",
    "y=np.array([ 55887.,  59365.,  65435.,  68065.,  71918.,  77257.,  92036.,\n",
    "        92645.,  99857.,  74935.,  78597.,  83134.,  87372., 104196.,\n",
    "       112597., 133821., 129107., 138259., 139083., 143762., 147334.])\n",
    "x=np.arange(8,29)"
   ]
  },
  {
   "cell_type": "code",
   "execution_count": 3,
   "metadata": {
    "scrolled": true
   },
   "outputs": [
    {
     "data": {
      "image/png": "[encoded data removed]",
      "text/plain": [
       "<Figure size 432x288 with 1 Axes>"
      ]
     },
     "metadata": {
      "needs_background": "light"
     },
     "output_type": "display_data"
    }
   ],
   "source": [
    "plt.plot(x+1980,y)\n",
    "plt.grid()"
   ]
  },
  {
   "cell_type": "markdown",
   "metadata": {},
   "source": [
    "1. Ajuste los salarios con polinomios de grado 1 a 3 y muestre los errores de forma gráfica, ¿Qué polinómio se ajusta mejor?\n",
    "2. Muestre en un gráfico los datos y el polinómio que mejor se ajuste\n",
    "3. Use el modelo para averiguar el salario a mediados del año 2005 y para predecirlo en el año 2025. ¿Qué diferencias encuentra en cuanto a la interpolación (esto es, obtener un punto medio) y la extrapolación  (es decir, obtener un dato fuera del rango conocido)?"
   ]
  },
  {
   "cell_type": "code",
   "execution_count": 11,
   "metadata": {},
   "outputs": [],
   "source": [
    "import numpy as np\n",
    "import matplotlib.pyplot as plt \n",
    "import scipy.optimize as opt \n",
    "%matplotlib inline \n",
    "data = 21 \n",
    "x = np.linspace(0, 20, data)\n"
   ]
  },
  {
   "cell_type": "markdown",
   "metadata": {},
   "source": [
    "### Graficamos nuestro modelo "
   ]
  },
  {
   "cell_type": "code",
   "execution_count": 63,
   "metadata": {},
   "outputs": [
    {
     "data": {
      "image/png": "[encoded data removed]",
      "text/plain": [
       "<Figure size 432x288 with 1 Axes>"
      ]
     },
     "metadata": {
      "needs_background": "light"
     },
     "output_type": "display_data"
    }
   ],
   "source": [
    "plt.figure()\n",
    "plt.scatter(x, y, s = 100)\n",
    "plt.grid()"
   ]
  },
  {
   "cell_type": "markdown",
   "metadata": {},
   "source": [
    "### Definimos nuestra función para poder hacer los polinomios "
   ]
  },
  {
   "cell_type": "code",
   "execution_count": 136,
   "metadata": {},
   "outputs": [],
   "source": [
    "def fun_salario(beta, X, y) :\n",
    "    beta = np.reshape(beta, [2,-1])\n",
    "    prediccion = X @ beta \n",
    "    return ((y - prediccion).T @ (y - prediccion))[0][0]\n"
   ]
  },
  {
   "cell_type": "markdown",
   "metadata": {},
   "source": [
    "### Empazamos a desarrollar los polinomios "
   ]
  },
  {
   "cell_type": "code",
   "execution_count": 113,
   "metadata": {},
   "outputs": [
    {
     "data": {
      "text/plain": [
       "219008819410.73087"
      ]
     },
     "execution_count": 113,
     "metadata": {},
     "output_type": "execute_result"
    }
   ],
   "source": [
    "\n",
    "ones = np.ones([data, 1])\n",
    "x1 = np.reshape(x, [data, -1])\n",
    "X = np.hstack((ones, x1))\n",
    "beta1 = np.random.rand(2)\n",
    "fun_salario(beta_inicial, X, y)\n",
    "y = np.reshape(y, [data, -1])\n",
    "fun_salario(beta1, X, y)\n"
   ]
  },
  {
   "cell_type": "code",
   "execution_count": 129,
   "metadata": {},
   "outputs": [
    {
     "data": {
      "text/plain": [
       "      fun: 1818616350.2410328\n",
       " hess_inv: array([[ 2.13101756e-01, -4.26580966e-02,  1.75676464e-03],\n",
       "       [-4.26580966e-02,  1.13212674e-02, -5.22425619e-04],\n",
       "       [ 1.75676464e-03, -5.22425619e-04,  2.56928127e-05]])\n",
       "      jac: array([   0.,   64., 1072.])\n",
       "  message: 'Desired error not necessarily achieved due to precision loss.'\n",
       "     nfev: 187\n",
       "      nit: 9\n",
       "     njev: 44\n",
       "   status: 2\n",
       "  success: False\n",
       "        x: array([61400.16392963,  1753.33735973,   138.34929698])"
      ]
     },
     "execution_count": 129,
     "metadata": {},
     "output_type": "execute_result"
    }
   ],
   "source": [
    "sol = opt.minimize(fun_salario, beta1, args = (X,y))\n",
    "sol"
   ]
  },
  {
   "cell_type": "markdown",
   "metadata": {},
   "source": [
    "### Segundo polinomio "
   ]
  },
  {
   "cell_type": "code",
   "execution_count": 175,
   "metadata": {},
   "outputs": [
    {
     "ename": "ValueError",
     "evalue": "matmul: Input operand 1 has a mismatch in its core dimension 0, with gufunc signature (n?,k),(k,m?)->(n?,m?) (size 3 is different from 4)",
     "output_type": "error",
     "traceback": [
      "\u001b[0;31m---------------------------------------------------------------------------\u001b[0m",
      "\u001b[0;31mValueError\u001b[0m                                Traceback (most recent call last)",
      "Input \u001b[0;32mIn [175]\u001b[0m, in \u001b[0;36m<cell line: 1>\u001b[0;34m()\u001b[0m\n\u001b[0;32m----> 1\u001b[0m yprediccion1 \u001b[38;5;241m=\u001b[39m \u001b[43mX\u001b[49m\u001b[43m \u001b[49m\u001b[38;5;241;43m@\u001b[39;49m\u001b[43m \u001b[49m\u001b[43msol\u001b[49m\u001b[38;5;241;43m.\u001b[39;49m\u001b[43mx\u001b[49m\n",
      "\u001b[0;31mValueError\u001b[0m: matmul: Input operand 1 has a mismatch in its core dimension 0, with gufunc signature (n?,k),(k,m?)->(n?,m?) (size 3 is different from 4)"
     ]
    }
   ],
   "source": [
    "yprediccion1 = X @ sol.x"
   ]
  },
  {
   "cell_type": "code",
   "execution_count": 176,
   "metadata": {},
   "outputs": [
    {
     "data": {
      "text/plain": [
       "      fun: 1818616349.7109153\n",
       " hess_inv: array([[ 5.99866536e-07, -2.80474623e-08,  5.71820581e-07],\n",
       "       [-2.80474623e-08,  2.90626961e-08,  1.01524406e-09],\n",
       "       [ 5.71820581e-07,  1.01524406e-09,  5.72838119e-07]])\n",
       "      jac: array([0., 0., 0.])\n",
       "  message: 'Optimization terminated successfully.'\n",
       "     nfev: 204\n",
       "      nit: 15\n",
       "     njev: 51\n",
       "   status: 0\n",
       "  success: True\n",
       "        x: array([61400.13972825,  1753.34202299,   138.34836245])"
      ]
     },
     "execution_count": 176,
     "metadata": {},
     "output_type": "execute_result"
    }
   ],
   "source": [
    "\n",
    "def fun_salario(beta, X, y) :\n",
    "    beta = np.reshape(beta, [3,-1])\n",
    "    prediccion = X @ beta \n",
    "    return ((y - prediccion).T @ (y - prediccion))[0][0]\n",
    "ones = np.ones([data, 1])\n",
    "x1 = np.reshape(x, [data, -1])\n",
    "x2 = np.reshape(x**2, [data, -1])\n",
    "X = np.hstack( (ones, x1, x2))\n",
    "beta1 = np.random.rand(3)\n",
    "y = np.reshape(y, [data, -1])\n",
    "fun_salario(beta1, X, y)\n",
    "\n",
    "sol = opt.minimize(fun_salario, beta1, args = (X, y))\n",
    "sol"
   ]
  },
  {
   "cell_type": "markdown",
   "metadata": {},
   "source": [
    "### Tecer polinomio "
   ]
  },
  {
   "cell_type": "code",
   "execution_count": 177,
   "metadata": {},
   "outputs": [],
   "source": [
    "yprediccion2 = X @ sol.x"
   ]
  },
  {
   "cell_type": "code",
   "execution_count": 178,
   "metadata": {},
   "outputs": [
    {
     "data": {
      "text/plain": [
       "      fun: 1746809626.4214988\n",
       " hess_inv: array([[ 1.74141063e-03,  6.14510159e-08, -1.38844148e-06,\n",
       "         1.67989225e-07],\n",
       "       [ 6.14510159e-08,  5.63484270e-08, -1.96353132e-08,\n",
       "         1.45485106e-09],\n",
       "       [-1.38844148e-06, -1.96353132e-08,  5.44503810e-07,\n",
       "        -2.76605239e-08],\n",
       "       [ 1.67989225e-07,  1.45485106e-09, -2.76605239e-08,\n",
       "         3.50580725e-09]])\n",
       "      jac: array([  0.,   0.,   0., -32.])\n",
       "  message: 'Desired error not necessarily achieved due to precision loss.'\n",
       "     nfev: 362\n",
       "      nit: 20\n",
       "     njev: 71\n",
       "   status: 2\n",
       "  success: False\n",
       "        x: array([ 5.77275825e+04,  4.26786817e+03, -1.83736077e+02,  1.07359031e+01])"
      ]
     },
     "execution_count": 178,
     "metadata": {},
     "output_type": "execute_result"
    }
   ],
   "source": [
    "def fun_salario(beta, x, y) :\n",
    "    beta = np.reshape(beta, [4,-1])\n",
    "    prediccion = X @ beta \n",
    "    return ((y - prediccion).T @ (y - prediccion))[0][0]\n",
    "ones = np.ones([data, 1])\n",
    "x1 = np.reshape(x, [data, -1])\n",
    "x2 = np.reshape(x**2, [data, -1])\n",
    "x3 = np.reshape(x**3, [data, -1])\n",
    "X = np.hstack( (ones, x1, x2, x3))\n",
    "beta1 = np.random.rand(4)\n",
    "y = np.reshape(y, [data, -1])\n",
    "fun_salario(beta1, X, y)\n",
    "\n",
    "sol3 = opt.minimize(fun_salario, beta1, args = (X, y))\n",
    "sol3"
   ]
  },
  {
   "cell_type": "markdown",
   "metadata": {},
   "source": [
    "### Graficamos "
   ]
  },
  {
   "cell_type": "code",
   "execution_count": 179,
   "metadata": {},
   "outputs": [
    {
     "ename": "NameError",
     "evalue": "name 'yprediccion1' is not defined",
     "output_type": "error",
     "traceback": [
      "\u001b[0;31m---------------------------------------------------------------------------\u001b[0m",
      "\u001b[0;31mNameError\u001b[0m                                 Traceback (most recent call last)",
      "Input \u001b[0;32mIn [179]\u001b[0m, in \u001b[0;36m<cell line: 4>\u001b[0;34m()\u001b[0m\n\u001b[1;32m      2\u001b[0m plt\u001b[38;5;241m.\u001b[39mfigure()\n\u001b[1;32m      3\u001b[0m plt\u001b[38;5;241m.\u001b[39mscatter(x, y, s \u001b[38;5;241m=\u001b[39m \u001b[38;5;241m100\u001b[39m)\n\u001b[0;32m----> 4\u001b[0m plt\u001b[38;5;241m.\u001b[39mplot(x, \u001b[43myprediccion1\u001b[49m, \u001b[38;5;124m\"\u001b[39m\u001b[38;5;124mg\u001b[39m\u001b[38;5;124m\"\u001b[39m)\n\u001b[1;32m      5\u001b[0m plt\u001b[38;5;241m.\u001b[39mplot(x, yprediccion2, \u001b[38;5;124m\"\u001b[39m\u001b[38;5;124my\u001b[39m\u001b[38;5;124m\"\u001b[39m)\n",
      "\u001b[0;31mNameError\u001b[0m: name 'yprediccion1' is not defined"
     ]
    },
    {
     "data": {
      "image/png": "[encoded data removed]",
      "text/plain": [
       "<Figure size 432x288 with 1 Axes>"
      ]
     },
     "metadata": {
      "needs_background": "light"
     },
     "output_type": "display_data"
    }
   ],
   "source": [
    "%matplotlib inline \n",
    "plt.figure()\n",
    "plt.scatter(x, y, s = 100)\n",
    "plt.plot(x, yprediccion1, \"g\")\n",
    "plt.plot(x, yprediccion2, \"y\")"
   ]
  },
  {
   "cell_type": "markdown",
   "metadata": {},
   "source": [
    "### Respuesta 3."
   ]
  },
  {
   "cell_type": "markdown",
   "metadata": {},
   "source": [
    "Diferencia entre extrapolación e interpolación"
   ]
  },
  {
   "cell_type": "code",
   "execution_count": null,
   "metadata": {},
   "outputs": [],
   "source": []
  }
 ],
 "metadata": {
  "kernelspec": {
   "display_name": "Python 3 (ipykernel)",
   "language": "python",
   "name": "python3"
  },
  "language_info": {
   "codemirror_mode": {
    "name": "ipython",
    "version": 3
   },
   "file_extension": ".py",
   "mimetype": "text/x-python",
   "name": "python",
   "nbconvert_exporter": "python",
   "pygments_lexer": "ipython3",
   "version": "3.9.12"
  }
 },
 "nbformat": 4,
 "nbformat_minor": 4
}
